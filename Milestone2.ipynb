{
 "cells": [
  {
   "cell_type": "code",
   "execution_count": 1,
   "metadata": {},
   "outputs": [],
   "source": [
    "# This Python 3 environment comes with many helpful analytics libraries installed\n",
    "# It is defined by the kaggle/python docker image: https://github.com/kaggle/docker-python\n",
    "# For example, here's several helpful packages to load in \n",
    "\n",
    "import os\n",
    "import sys\n",
    "import numpy as np # linear algebra\n",
    "np.set_printoptions(threshold=sys.maxsize)\n",
    "import pandas as pd # data processing, CSV file I/O (e.g. pd.read_csv)\n",
    "import matplotlib.pyplot as plt\n",
    "import seaborn as sns\n",
    "import glob as glob\n",
    "from sklearn import model_selection, preprocessing, ensemble, metrics, feature_selection\n",
    "from sklearn.linear_model import LogisticRegression\n",
    "from sklearn.feature_extraction.text import TfidfVectorizer, CountVectorizer\n",
    "from sklearn.feature_extraction import image\n",
    "from sklearn import svm\n",
    "from sklearn.svm import SVC\n",
    "from sklearn.model_selection import GridSearchCV\n",
    "from sklearn.preprocessing import MinMaxScaler\n",
    "from sklearn.pipeline import Pipeline\n",
    "from scipy import stats\n",
    "from datetime import datetime\n",
    "from PIL import Image\n",
    "from skimage.io import imread, imshow\n",
    "from skimage.filters import prewitt_h,prewitt_v"
   ]
  },
  {
   "cell_type": "code",
   "execution_count": null,
   "metadata": {},
   "outputs": [],
   "source": []
  },
  {
   "cell_type": "code",
   "execution_count": 2,
   "metadata": {
    "scrolled": true
   },
   "outputs": [
    {
     "data": {
      "text/html": [
       "<div>\n",
       "<style scoped>\n",
       "    .dataframe tbody tr th:only-of-type {\n",
       "        vertical-align: middle;\n",
       "    }\n",
       "\n",
       "    .dataframe tbody tr th {\n",
       "        vertical-align: top;\n",
       "    }\n",
       "\n",
       "    .dataframe thead th {\n",
       "        text-align: right;\n",
       "    }\n",
       "</style>\n",
       "<table border=\"1\" class=\"dataframe\">\n",
       "  <thead>\n",
       "    <tr style=\"text-align: right;\">\n",
       "      <th></th>\n",
       "      <th>bathrooms</th>\n",
       "      <th>bedrooms</th>\n",
       "      <th>building_id</th>\n",
       "      <th>created</th>\n",
       "      <th>description</th>\n",
       "      <th>display_address</th>\n",
       "      <th>features</th>\n",
       "      <th>latitude</th>\n",
       "      <th>listing_id</th>\n",
       "      <th>longitude</th>\n",
       "      <th>manager_id</th>\n",
       "      <th>photos</th>\n",
       "      <th>price</th>\n",
       "      <th>street_address</th>\n",
       "      <th>interest_level</th>\n",
       "    </tr>\n",
       "  </thead>\n",
       "  <tbody>\n",
       "    <tr>\n",
       "      <th>4</th>\n",
       "      <td>1.0</td>\n",
       "      <td>1</td>\n",
       "      <td>8579a0b0d54db803821a35a4a615e97a</td>\n",
       "      <td>2016-06-16 05:55:27</td>\n",
       "      <td>Spacious 1 Bedroom 1 Bathroom in Williamsburg!...</td>\n",
       "      <td>145 Borinquen Place</td>\n",
       "      <td>[Dining Room, Pre-War, Laundry in Building, Di...</td>\n",
       "      <td>40.7108</td>\n",
       "      <td>7170325</td>\n",
       "      <td>-73.9539</td>\n",
       "      <td>a10db4590843d78c784171a107bdacb4</td>\n",
       "      <td>[https://photos.renthop.com/2/7170325_3bb5ac84...</td>\n",
       "      <td>2400</td>\n",
       "      <td>145 Borinquen Place</td>\n",
       "      <td>medium</td>\n",
       "    </tr>\n",
       "    <tr>\n",
       "      <th>6</th>\n",
       "      <td>1.0</td>\n",
       "      <td>2</td>\n",
       "      <td>b8e75fc949a6cd8225b455648a951712</td>\n",
       "      <td>2016-06-01 05:44:33</td>\n",
       "      <td>BRAND NEW GUT RENOVATED TRUE 2 BEDROOMFind you...</td>\n",
       "      <td>East 44th</td>\n",
       "      <td>[Doorman, Elevator, Laundry in Building, Dishw...</td>\n",
       "      <td>40.7513</td>\n",
       "      <td>7092344</td>\n",
       "      <td>-73.9722</td>\n",
       "      <td>955db33477af4f40004820b4aed804a0</td>\n",
       "      <td>[https://photos.renthop.com/2/7092344_7663c19a...</td>\n",
       "      <td>3800</td>\n",
       "      <td>230 East 44th</td>\n",
       "      <td>low</td>\n",
       "    </tr>\n",
       "    <tr>\n",
       "      <th>9</th>\n",
       "      <td>1.0</td>\n",
       "      <td>2</td>\n",
       "      <td>cd759a988b8f23924b5a2058d5ab2b49</td>\n",
       "      <td>2016-06-14 15:19:59</td>\n",
       "      <td>**FLEX 2 BEDROOM WITH FULL PRESSURIZED WALL**L...</td>\n",
       "      <td>East 56th Street</td>\n",
       "      <td>[Doorman, Elevator, Laundry in Building, Laund...</td>\n",
       "      <td>40.7575</td>\n",
       "      <td>7158677</td>\n",
       "      <td>-73.9625</td>\n",
       "      <td>c8b10a317b766204f08e613cef4ce7a0</td>\n",
       "      <td>[https://photos.renthop.com/2/7158677_c897a134...</td>\n",
       "      <td>3495</td>\n",
       "      <td>405 East 56th Street</td>\n",
       "      <td>medium</td>\n",
       "    </tr>\n",
       "    <tr>\n",
       "      <th>10</th>\n",
       "      <td>1.5</td>\n",
       "      <td>3</td>\n",
       "      <td>53a5b119ba8f7b61d4e010512e0dfc85</td>\n",
       "      <td>2016-06-24 07:54:24</td>\n",
       "      <td>A Brand New 3 Bedroom 1.5 bath ApartmentEnjoy ...</td>\n",
       "      <td>Metropolitan Avenue</td>\n",
       "      <td>[]</td>\n",
       "      <td>40.7145</td>\n",
       "      <td>7211212</td>\n",
       "      <td>-73.9425</td>\n",
       "      <td>5ba989232d0489da1b5f2c45f6688adc</td>\n",
       "      <td>[https://photos.renthop.com/2/7211212_1ed4542e...</td>\n",
       "      <td>3000</td>\n",
       "      <td>792 Metropolitan Avenue</td>\n",
       "      <td>medium</td>\n",
       "    </tr>\n",
       "    <tr>\n",
       "      <th>15</th>\n",
       "      <td>1.0</td>\n",
       "      <td>0</td>\n",
       "      <td>bfb9405149bfff42a92980b594c28234</td>\n",
       "      <td>2016-06-28 03:50:23</td>\n",
       "      <td>Over-sized Studio w abundant closets. Availabl...</td>\n",
       "      <td>East 34th Street</td>\n",
       "      <td>[Doorman, Elevator, Fitness Center, Laundry in...</td>\n",
       "      <td>40.7439</td>\n",
       "      <td>7225292</td>\n",
       "      <td>-73.9743</td>\n",
       "      <td>2c3b41f588fbb5234d8a1e885a436cfa</td>\n",
       "      <td>[https://photos.renthop.com/2/7225292_901f1984...</td>\n",
       "      <td>2795</td>\n",
       "      <td>340 East 34th Street</td>\n",
       "      <td>low</td>\n",
       "    </tr>\n",
       "    <tr>\n",
       "      <th>16</th>\n",
       "      <td>1.0</td>\n",
       "      <td>3</td>\n",
       "      <td>300d27d8ba2adbcbc8c6f2bcbc1c6f9d</td>\n",
       "      <td>2016-06-28 05:59:06</td>\n",
       "      <td>This spectacular converted 3 bed apartment all...</td>\n",
       "      <td>East 16th Street</td>\n",
       "      <td>[Doorman, Elevator, Loft, Dishwasher, Hardwood...</td>\n",
       "      <td>40.7348</td>\n",
       "      <td>7226687</td>\n",
       "      <td>-73.9865</td>\n",
       "      <td>30a7951cfc21240e8c46b2d079d292e5</td>\n",
       "      <td>[https://photos.renthop.com/2/7226687_4ea22bf1...</td>\n",
       "      <td>7200</td>\n",
       "      <td>145 East 16th Street</td>\n",
       "      <td>low</td>\n",
       "    </tr>\n",
       "    <tr>\n",
       "      <th>18</th>\n",
       "      <td>2.0</td>\n",
       "      <td>3</td>\n",
       "      <td>0d01cabe55fa5192cdbcabd5c585c1ea</td>\n",
       "      <td>2016-06-08 06:21:36</td>\n",
       "      <td>AMAZING DEAL!! BRAND NEW RENOVATIONS IN THIS H...</td>\n",
       "      <td>East 13th Street</td>\n",
       "      <td>[Fireplace, Laundry in Unit, Dishwasher, Hardw...</td>\n",
       "      <td>40.7302</td>\n",
       "      <td>7126989</td>\n",
       "      <td>-73.9826</td>\n",
       "      <td>9f39caedae295bf81e67463e6fd0af40</td>\n",
       "      <td>[https://photos.renthop.com/2/7126989_a74ab3da...</td>\n",
       "      <td>6000</td>\n",
       "      <td>410 East 13th Street</td>\n",
       "      <td>low</td>\n",
       "    </tr>\n",
       "    <tr>\n",
       "      <th>19</th>\n",
       "      <td>1.0</td>\n",
       "      <td>0</td>\n",
       "      <td>d48767c37a934daaf0bbb0e58c755d0c</td>\n",
       "      <td>2016-06-05 05:28:22</td>\n",
       "      <td>No Fee Large Renovated Sun Splashed Studio. Wa...</td>\n",
       "      <td>York Avenue</td>\n",
       "      <td>[Elevator, Laundry in Building, Dishwasher, Ha...</td>\n",
       "      <td>40.7769</td>\n",
       "      <td>7114138</td>\n",
       "      <td>-73.9467</td>\n",
       "      <td>9cbfa7a31ae9dfba70b4383636d99788</td>\n",
       "      <td>[https://photos.renthop.com/2/7114138_68d035c3...</td>\n",
       "      <td>1945</td>\n",
       "      <td>1661 York Avenue</td>\n",
       "      <td>high</td>\n",
       "    </tr>\n",
       "    <tr>\n",
       "      <th>23</th>\n",
       "      <td>0.0</td>\n",
       "      <td>1</td>\n",
       "      <td>d1ca33a2853e64fad6e4009d5d5d168f</td>\n",
       "      <td>2016-06-09 04:42:03</td>\n",
       "      <td>Extra large one bedroom apartment located in P...</td>\n",
       "      <td>E 19 Street</td>\n",
       "      <td>[Hardwood Floors]</td>\n",
       "      <td>40.7346</td>\n",
       "      <td>7131094</td>\n",
       "      <td>-73.9811</td>\n",
       "      <td>b89e62bf8cdc98e9fb8b97d9bc627197</td>\n",
       "      <td>[https://photos.renthop.com/2/7131094_2117d8a9...</td>\n",
       "      <td>2435</td>\n",
       "      <td>346 E 19 Street</td>\n",
       "      <td>low</td>\n",
       "    </tr>\n",
       "    <tr>\n",
       "      <th>32</th>\n",
       "      <td>3.0</td>\n",
       "      <td>3</td>\n",
       "      <td>5f35dc2f0191baf109221752e6ee0c48</td>\n",
       "      <td>2016-06-28 03:26:18</td>\n",
       "      <td>Listed: 06/26/16&lt;br /&gt;&lt;br /&gt;Available:...</td>\n",
       "      <td>Hicks Street</td>\n",
       "      <td>[Cats Allowed, Dogs Allowed]</td>\n",
       "      <td>40.6990</td>\n",
       "      <td>7224815</td>\n",
       "      <td>-73.9943</td>\n",
       "      <td>d5d246c9d9d4e7079e5a0fc962d2f1a7</td>\n",
       "      <td>[https://photos.renthop.com/2/7224815_8ff8a811...</td>\n",
       "      <td>6850</td>\n",
       "      <td>94 Hicks Street</td>\n",
       "      <td>low</td>\n",
       "    </tr>\n",
       "    <tr>\n",
       "      <th>33</th>\n",
       "      <td>1.0</td>\n",
       "      <td>0</td>\n",
       "      <td>e74f18ba1001ceae531209fbdc702a58</td>\n",
       "      <td>2016-06-04 02:21:27</td>\n",
       "      <td>Location: Upper East SideAmazing studio with h...</td>\n",
       "      <td>E 80th St.\\r</td>\n",
       "      <td>[Doorman, Elevator, Laundry in Building, Dogs ...</td>\n",
       "      <td>40.7723</td>\n",
       "      <td>7107333</td>\n",
       "      <td>-73.9510</td>\n",
       "      <td>7e22b26535b913275de0f9ff4f1d6965</td>\n",
       "      <td>[https://photos.renthop.com/2/7107333_b11b9f27...</td>\n",
       "      <td>2785</td>\n",
       "      <td>420 E 80th St.\\r</td>\n",
       "      <td>low</td>\n",
       "    </tr>\n",
       "    <tr>\n",
       "      <th>36</th>\n",
       "      <td>1.0</td>\n",
       "      <td>2</td>\n",
       "      <td>d0234abbc01a982d54e8d446acc03405</td>\n",
       "      <td>2016-06-01 02:51:22</td>\n",
       "      <td>No Fee!! This luxurious building offers apartm...</td>\n",
       "      <td>W 34 St.</td>\n",
       "      <td>[Roof Deck, Doorman, Elevator, Fitness Center,...</td>\n",
       "      <td>40.7530</td>\n",
       "      <td>7088993</td>\n",
       "      <td>-73.9959</td>\n",
       "      <td>266121b077bc0ff6e11f697003a031fd</td>\n",
       "      <td>[https://photos.renthop.com/2/7088993_c98c323f...</td>\n",
       "      <td>3100</td>\n",
       "      <td>360 W 34 St.</td>\n",
       "      <td>low</td>\n",
       "    </tr>\n",
       "    <tr>\n",
       "      <th>38</th>\n",
       "      <td>1.0</td>\n",
       "      <td>0</td>\n",
       "      <td>2787598123c55dbf45b514958909c79c</td>\n",
       "      <td>2016-06-25 05:28:30</td>\n",
       "      <td>This is a luxurious JR 1 bedroom with tons of ...</td>\n",
       "      <td>West 42nd Street</td>\n",
       "      <td>[Swimming Pool, Roof Deck, Doorman, Elevator, ...</td>\n",
       "      <td>40.7610</td>\n",
       "      <td>7216312</td>\n",
       "      <td>-73.9990</td>\n",
       "      <td>66ad3cc67d71f41d549eef8b40ed26b9</td>\n",
       "      <td>[https://photos.renthop.com/2/7216312_beb173a1...</td>\n",
       "      <td>2400</td>\n",
       "      <td>620 West 42nd Street</td>\n",
       "      <td>medium</td>\n",
       "    </tr>\n",
       "    <tr>\n",
       "      <th>39</th>\n",
       "      <td>1.0</td>\n",
       "      <td>1</td>\n",
       "      <td>bbc28059df5e21c49c103c46743631d4</td>\n",
       "      <td>2016-06-11 03:46:53</td>\n",
       "      <td>This large 1 bedroom is located in the heart o...</td>\n",
       "      <td>Thompson St.</td>\n",
       "      <td>[Hardwood Floors]</td>\n",
       "      <td>40.7277</td>\n",
       "      <td>7140668</td>\n",
       "      <td>-74.0000</td>\n",
       "      <td>d959561ac12b0410f139756a3234db9a</td>\n",
       "      <td>[https://photos.renthop.com/2/7140668_bcf4de98...</td>\n",
       "      <td>2750</td>\n",
       "      <td>174 Thompson St.</td>\n",
       "      <td>low</td>\n",
       "    </tr>\n",
       "    <tr>\n",
       "      <th>42</th>\n",
       "      <td>2.0</td>\n",
       "      <td>2</td>\n",
       "      <td>810ddef9046abe7bd8278944c5809ae8</td>\n",
       "      <td>2016-06-11 04:24:39</td>\n",
       "      <td>Renovated 3 bedroom/2 bath with open-concept k...</td>\n",
       "      <td>E 65 Street</td>\n",
       "      <td>[Doorman, Elevator, Laundry in Building, Dishw...</td>\n",
       "      <td>40.7633</td>\n",
       "      <td>7141160</td>\n",
       "      <td>-73.9596</td>\n",
       "      <td>e304e47b1c1d5dde4fa872999b56cf43</td>\n",
       "      <td>[https://photos.renthop.com/2/7141160_5625764b...</td>\n",
       "      <td>5465</td>\n",
       "      <td>360 E 65 Street</td>\n",
       "      <td>low</td>\n",
       "    </tr>\n",
       "    <tr>\n",
       "      <th>43</th>\n",
       "      <td>1.0</td>\n",
       "      <td>0</td>\n",
       "      <td>667d42b4651d26307c3f103a32cdb309</td>\n",
       "      <td>2016-06-20 10:14:52</td>\n",
       "      <td>BRIGHT &amp;  LARGE STUDIO  APARTMENT + OUTDOOR SP...</td>\n",
       "      <td>Division Avenue</td>\n",
       "      <td>[Reduced Fee]</td>\n",
       "      <td>40.7073</td>\n",
       "      <td>7753784</td>\n",
       "      <td>-73.9665</td>\n",
       "      <td>fd1d4ee0095d41d209e23530141eaabf</td>\n",
       "      <td>[https://photos.renthop.com/2/7181353_e6f06720...</td>\n",
       "      <td>3150</td>\n",
       "      <td>63A Division Avenue</td>\n",
       "      <td>low</td>\n",
       "    </tr>\n",
       "    <tr>\n",
       "      <th>44</th>\n",
       "      <td>1.0</td>\n",
       "      <td>2</td>\n",
       "      <td>437454e6d44ae7c94f60b1b6507d084a</td>\n",
       "      <td>2016-06-11 03:59:20</td>\n",
       "      <td>THIS IS A GREAT DEAL FOR A SPACIOUS, BRIGHT AP...</td>\n",
       "      <td>E 46 Street</td>\n",
       "      <td>[Doorman, Elevator, Hardwood Floors]</td>\n",
       "      <td>40.7528</td>\n",
       "      <td>7140840</td>\n",
       "      <td>-73.9709</td>\n",
       "      <td>ad818a10d44351d1e797441492b2304a</td>\n",
       "      <td>[https://photos.renthop.com/2/7140840_bfc1e7d5...</td>\n",
       "      <td>3750</td>\n",
       "      <td>235 E 46 Street</td>\n",
       "      <td>low</td>\n",
       "    </tr>\n",
       "    <tr>\n",
       "      <th>46</th>\n",
       "      <td>1.0</td>\n",
       "      <td>3</td>\n",
       "      <td>720302695e3e7d3d04275cd640fe58e4</td>\n",
       "      <td>2016-06-16 07:43:48</td>\n",
       "      <td>NO BROKER'S FEE!!! ALL UTILITIES FREE: HEAT, W...</td>\n",
       "      <td>18TH STREET</td>\n",
       "      <td>[Common Outdoor Space, Cats Allowed, Dogs Allo...</td>\n",
       "      <td>40.7360</td>\n",
       "      <td>7172046</td>\n",
       "      <td>-73.9860</td>\n",
       "      <td>0d64e795d2902bce6179009a25e37bbe</td>\n",
       "      <td>[https://photos.renthop.com/2/7172046_581122f7...</td>\n",
       "      <td>4450</td>\n",
       "      <td>170 East 18th Street</td>\n",
       "      <td>high</td>\n",
       "    </tr>\n",
       "    <tr>\n",
       "      <th>49</th>\n",
       "      <td>1.0</td>\n",
       "      <td>1</td>\n",
       "      <td>530db036533ea851fabd1c5e7b9bc3d0</td>\n",
       "      <td>2016-06-16 03:23:57</td>\n",
       "      <td>Beautiful  1BR in the Upper West SideAmenities...</td>\n",
       "      <td>W 77 Street</td>\n",
       "      <td>[Hardwood Floors]</td>\n",
       "      <td>40.7830</td>\n",
       "      <td>7168225</td>\n",
       "      <td>-73.9828</td>\n",
       "      <td>17204fa7e500e3ea4efb3e0f801669aa</td>\n",
       "      <td>[https://photos.renthop.com/2/7168225_c9d0b586...</td>\n",
       "      <td>3200</td>\n",
       "      <td>308 W 77 Street</td>\n",
       "      <td>low</td>\n",
       "    </tr>\n",
       "    <tr>\n",
       "      <th>61</th>\n",
       "      <td>1.0</td>\n",
       "      <td>1</td>\n",
       "      <td>0</td>\n",
       "      <td>2016-06-25 01:35:36</td>\n",
       "      <td>DISCLAIMER: Photos are of similar unit. Great,...</td>\n",
       "      <td>Main Street</td>\n",
       "      <td>[Doorman]</td>\n",
       "      <td>40.7621</td>\n",
       "      <td>7213185</td>\n",
       "      <td>-73.9486</td>\n",
       "      <td>e6ecf676c4359ad2903283834f1fd301</td>\n",
       "      <td>[https://photos.renthop.com/2/7213185_9102c3f2...</td>\n",
       "      <td>2495</td>\n",
       "      <td>576 Main Street</td>\n",
       "      <td>low</td>\n",
       "    </tr>\n",
       "    <tr>\n",
       "      <th>66</th>\n",
       "      <td>1.0</td>\n",
       "      <td>0</td>\n",
       "      <td>c1bcb85611d81b520a67c0828a9744b2</td>\n",
       "      <td>2016-06-24 02:16:54</td>\n",
       "      <td>A detailed description is coming soon. Please ...</td>\n",
       "      <td>2nd Ave</td>\n",
       "      <td>[balcony, private-balcony, Dishwasher, Private...</td>\n",
       "      <td>40.7460</td>\n",
       "      <td>7206465</td>\n",
       "      <td>-73.9754</td>\n",
       "      <td>c1446956537726a4cff20145b40fc605</td>\n",
       "      <td>[https://photos.renthop.com/2/7206465_5389259b...</td>\n",
       "      <td>2195</td>\n",
       "      <td>655 2nd Ave</td>\n",
       "      <td>low</td>\n",
       "    </tr>\n",
       "    <tr>\n",
       "      <th>67</th>\n",
       "      <td>2.0</td>\n",
       "      <td>2</td>\n",
       "      <td>fa21c83e114de7fd5cedff34e93f4f1a</td>\n",
       "      <td>2016-06-10 02:44:56</td>\n",
       "      <td>2 bedroom, 2 baths apartment in a luxury bouti...</td>\n",
       "      <td>West 20th Street</td>\n",
       "      <td>[Doorman, Elevator, Dogs Allowed, Cats Allowed]</td>\n",
       "      <td>40.7456</td>\n",
       "      <td>7134612</td>\n",
       "      <td>-74.0053</td>\n",
       "      <td>568fca5605da0512654cb9cccde50d53</td>\n",
       "      <td>[https://photos.renthop.com/2/7134612_c8815193...</td>\n",
       "      <td>5975</td>\n",
       "      <td>460 West 20th Street</td>\n",
       "      <td>low</td>\n",
       "    </tr>\n",
       "    <tr>\n",
       "      <th>69</th>\n",
       "      <td>1.0</td>\n",
       "      <td>1</td>\n",
       "      <td>193808f62855020f2112500f8dc5e11a</td>\n",
       "      <td>2016-06-14 02:28:02</td>\n",
       "      <td>CooperCooper.com :: Web ID #072882; Access 100...</td>\n",
       "      <td>West 56th Street</td>\n",
       "      <td>[Doorman, Fitness Center, Elevator, PublicOutd...</td>\n",
       "      <td>40.7685</td>\n",
       "      <td>7156935</td>\n",
       "      <td>-73.9895</td>\n",
       "      <td>6e5c10246156ae5bdcd9b487ca99d96a</td>\n",
       "      <td>[https://photos.renthop.com/2/7156935_9b3ce094...</td>\n",
       "      <td>4960</td>\n",
       "      <td>500 West 56th Street</td>\n",
       "      <td>low</td>\n",
       "    </tr>\n",
       "    <tr>\n",
       "      <th>74</th>\n",
       "      <td>1.0</td>\n",
       "      <td>1</td>\n",
       "      <td>1edde1c89233fb1b1a38c53e992b0756</td>\n",
       "      <td>2016-06-02 02:37:02</td>\n",
       "      <td>HUGE AMOUNT OF NEW SPACE, THIS IS ONE SEXY APA...</td>\n",
       "      <td>First Ave</td>\n",
       "      <td>[Dining Room, Elevator, Dishwasher, Hardwood F...</td>\n",
       "      <td>40.7319</td>\n",
       "      <td>7096161</td>\n",
       "      <td>-73.9817</td>\n",
       "      <td>3793e58c60343a3fd6846ca2d2ef3c7f</td>\n",
       "      <td>[https://photos.renthop.com/2/7096161_e2a00c04...</td>\n",
       "      <td>3362</td>\n",
       "      <td>252 First Ave</td>\n",
       "      <td>low</td>\n",
       "    </tr>\n",
       "    <tr>\n",
       "      <th>78</th>\n",
       "      <td>1.0</td>\n",
       "      <td>1</td>\n",
       "      <td>f4875d036f1792722e87137a13a151b4</td>\n",
       "      <td>2016-06-09 05:38:52</td>\n",
       "      <td>SPACIOUS 1 BEDROOM APARTMENT WITH RENOVATED KI...</td>\n",
       "      <td>E 79th St</td>\n",
       "      <td>[Laundry in Building, No Fee]</td>\n",
       "      <td>40.7709</td>\n",
       "      <td>7131812</td>\n",
       "      <td>-73.9496</td>\n",
       "      <td>612a00076aefe8c98d1df4835640c74b</td>\n",
       "      <td>[https://photos.renthop.com/2/7131812_e5b3ca9f...</td>\n",
       "      <td>2700</td>\n",
       "      <td>510 E 79th St</td>\n",
       "      <td>medium</td>\n",
       "    </tr>\n",
       "  </tbody>\n",
       "</table>\n",
       "</div>"
      ],
      "text/plain": [
       "    bathrooms  bedrooms                       building_id  \\\n",
       "4         1.0         1  8579a0b0d54db803821a35a4a615e97a   \n",
       "6         1.0         2  b8e75fc949a6cd8225b455648a951712   \n",
       "9         1.0         2  cd759a988b8f23924b5a2058d5ab2b49   \n",
       "10        1.5         3  53a5b119ba8f7b61d4e010512e0dfc85   \n",
       "15        1.0         0  bfb9405149bfff42a92980b594c28234   \n",
       "16        1.0         3  300d27d8ba2adbcbc8c6f2bcbc1c6f9d   \n",
       "18        2.0         3  0d01cabe55fa5192cdbcabd5c585c1ea   \n",
       "19        1.0         0  d48767c37a934daaf0bbb0e58c755d0c   \n",
       "23        0.0         1  d1ca33a2853e64fad6e4009d5d5d168f   \n",
       "32        3.0         3  5f35dc2f0191baf109221752e6ee0c48   \n",
       "33        1.0         0  e74f18ba1001ceae531209fbdc702a58   \n",
       "36        1.0         2  d0234abbc01a982d54e8d446acc03405   \n",
       "38        1.0         0  2787598123c55dbf45b514958909c79c   \n",
       "39        1.0         1  bbc28059df5e21c49c103c46743631d4   \n",
       "42        2.0         2  810ddef9046abe7bd8278944c5809ae8   \n",
       "43        1.0         0  667d42b4651d26307c3f103a32cdb309   \n",
       "44        1.0         2  437454e6d44ae7c94f60b1b6507d084a   \n",
       "46        1.0         3  720302695e3e7d3d04275cd640fe58e4   \n",
       "49        1.0         1  530db036533ea851fabd1c5e7b9bc3d0   \n",
       "61        1.0         1                                 0   \n",
       "66        1.0         0  c1bcb85611d81b520a67c0828a9744b2   \n",
       "67        2.0         2  fa21c83e114de7fd5cedff34e93f4f1a   \n",
       "69        1.0         1  193808f62855020f2112500f8dc5e11a   \n",
       "74        1.0         1  1edde1c89233fb1b1a38c53e992b0756   \n",
       "78        1.0         1  f4875d036f1792722e87137a13a151b4   \n",
       "\n",
       "                created                                        description  \\\n",
       "4   2016-06-16 05:55:27  Spacious 1 Bedroom 1 Bathroom in Williamsburg!...   \n",
       "6   2016-06-01 05:44:33  BRAND NEW GUT RENOVATED TRUE 2 BEDROOMFind you...   \n",
       "9   2016-06-14 15:19:59  **FLEX 2 BEDROOM WITH FULL PRESSURIZED WALL**L...   \n",
       "10  2016-06-24 07:54:24  A Brand New 3 Bedroom 1.5 bath ApartmentEnjoy ...   \n",
       "15  2016-06-28 03:50:23  Over-sized Studio w abundant closets. Availabl...   \n",
       "16  2016-06-28 05:59:06  This spectacular converted 3 bed apartment all...   \n",
       "18  2016-06-08 06:21:36  AMAZING DEAL!! BRAND NEW RENOVATIONS IN THIS H...   \n",
       "19  2016-06-05 05:28:22  No Fee Large Renovated Sun Splashed Studio. Wa...   \n",
       "23  2016-06-09 04:42:03  Extra large one bedroom apartment located in P...   \n",
       "32  2016-06-28 03:26:18          Listed: 06/26/16<br /><br />Available:...   \n",
       "33  2016-06-04 02:21:27  Location: Upper East SideAmazing studio with h...   \n",
       "36  2016-06-01 02:51:22  No Fee!! This luxurious building offers apartm...   \n",
       "38  2016-06-25 05:28:30  This is a luxurious JR 1 bedroom with tons of ...   \n",
       "39  2016-06-11 03:46:53  This large 1 bedroom is located in the heart o...   \n",
       "42  2016-06-11 04:24:39  Renovated 3 bedroom/2 bath with open-concept k...   \n",
       "43  2016-06-20 10:14:52  BRIGHT &  LARGE STUDIO  APARTMENT + OUTDOOR SP...   \n",
       "44  2016-06-11 03:59:20  THIS IS A GREAT DEAL FOR A SPACIOUS, BRIGHT AP...   \n",
       "46  2016-06-16 07:43:48  NO BROKER'S FEE!!! ALL UTILITIES FREE: HEAT, W...   \n",
       "49  2016-06-16 03:23:57  Beautiful  1BR in the Upper West SideAmenities...   \n",
       "61  2016-06-25 01:35:36  DISCLAIMER: Photos are of similar unit. Great,...   \n",
       "66  2016-06-24 02:16:54  A detailed description is coming soon. Please ...   \n",
       "67  2016-06-10 02:44:56  2 bedroom, 2 baths apartment in a luxury bouti...   \n",
       "69  2016-06-14 02:28:02  CooperCooper.com :: Web ID #072882; Access 100...   \n",
       "74  2016-06-02 02:37:02  HUGE AMOUNT OF NEW SPACE, THIS IS ONE SEXY APA...   \n",
       "78  2016-06-09 05:38:52  SPACIOUS 1 BEDROOM APARTMENT WITH RENOVATED KI...   \n",
       "\n",
       "        display_address                                           features  \\\n",
       "4   145 Borinquen Place  [Dining Room, Pre-War, Laundry in Building, Di...   \n",
       "6             East 44th  [Doorman, Elevator, Laundry in Building, Dishw...   \n",
       "9      East 56th Street  [Doorman, Elevator, Laundry in Building, Laund...   \n",
       "10  Metropolitan Avenue                                                 []   \n",
       "15     East 34th Street  [Doorman, Elevator, Fitness Center, Laundry in...   \n",
       "16     East 16th Street  [Doorman, Elevator, Loft, Dishwasher, Hardwood...   \n",
       "18     East 13th Street  [Fireplace, Laundry in Unit, Dishwasher, Hardw...   \n",
       "19          York Avenue  [Elevator, Laundry in Building, Dishwasher, Ha...   \n",
       "23          E 19 Street                                  [Hardwood Floors]   \n",
       "32         Hicks Street                       [Cats Allowed, Dogs Allowed]   \n",
       "33         E 80th St.\\r  [Doorman, Elevator, Laundry in Building, Dogs ...   \n",
       "36             W 34 St.  [Roof Deck, Doorman, Elevator, Fitness Center,...   \n",
       "38     West 42nd Street  [Swimming Pool, Roof Deck, Doorman, Elevator, ...   \n",
       "39         Thompson St.                                  [Hardwood Floors]   \n",
       "42          E 65 Street  [Doorman, Elevator, Laundry in Building, Dishw...   \n",
       "43      Division Avenue                                      [Reduced Fee]   \n",
       "44          E 46 Street               [Doorman, Elevator, Hardwood Floors]   \n",
       "46          18TH STREET  [Common Outdoor Space, Cats Allowed, Dogs Allo...   \n",
       "49          W 77 Street                                  [Hardwood Floors]   \n",
       "61          Main Street                                          [Doorman]   \n",
       "66              2nd Ave  [balcony, private-balcony, Dishwasher, Private...   \n",
       "67     West 20th Street    [Doorman, Elevator, Dogs Allowed, Cats Allowed]   \n",
       "69     West 56th Street  [Doorman, Fitness Center, Elevator, PublicOutd...   \n",
       "74            First Ave  [Dining Room, Elevator, Dishwasher, Hardwood F...   \n",
       "78            E 79th St                      [Laundry in Building, No Fee]   \n",
       "\n",
       "    latitude  listing_id  longitude                        manager_id  \\\n",
       "4    40.7108     7170325   -73.9539  a10db4590843d78c784171a107bdacb4   \n",
       "6    40.7513     7092344   -73.9722  955db33477af4f40004820b4aed804a0   \n",
       "9    40.7575     7158677   -73.9625  c8b10a317b766204f08e613cef4ce7a0   \n",
       "10   40.7145     7211212   -73.9425  5ba989232d0489da1b5f2c45f6688adc   \n",
       "15   40.7439     7225292   -73.9743  2c3b41f588fbb5234d8a1e885a436cfa   \n",
       "16   40.7348     7226687   -73.9865  30a7951cfc21240e8c46b2d079d292e5   \n",
       "18   40.7302     7126989   -73.9826  9f39caedae295bf81e67463e6fd0af40   \n",
       "19   40.7769     7114138   -73.9467  9cbfa7a31ae9dfba70b4383636d99788   \n",
       "23   40.7346     7131094   -73.9811  b89e62bf8cdc98e9fb8b97d9bc627197   \n",
       "32   40.6990     7224815   -73.9943  d5d246c9d9d4e7079e5a0fc962d2f1a7   \n",
       "33   40.7723     7107333   -73.9510  7e22b26535b913275de0f9ff4f1d6965   \n",
       "36   40.7530     7088993   -73.9959  266121b077bc0ff6e11f697003a031fd   \n",
       "38   40.7610     7216312   -73.9990  66ad3cc67d71f41d549eef8b40ed26b9   \n",
       "39   40.7277     7140668   -74.0000  d959561ac12b0410f139756a3234db9a   \n",
       "42   40.7633     7141160   -73.9596  e304e47b1c1d5dde4fa872999b56cf43   \n",
       "43   40.7073     7753784   -73.9665  fd1d4ee0095d41d209e23530141eaabf   \n",
       "44   40.7528     7140840   -73.9709  ad818a10d44351d1e797441492b2304a   \n",
       "46   40.7360     7172046   -73.9860  0d64e795d2902bce6179009a25e37bbe   \n",
       "49   40.7830     7168225   -73.9828  17204fa7e500e3ea4efb3e0f801669aa   \n",
       "61   40.7621     7213185   -73.9486  e6ecf676c4359ad2903283834f1fd301   \n",
       "66   40.7460     7206465   -73.9754  c1446956537726a4cff20145b40fc605   \n",
       "67   40.7456     7134612   -74.0053  568fca5605da0512654cb9cccde50d53   \n",
       "69   40.7685     7156935   -73.9895  6e5c10246156ae5bdcd9b487ca99d96a   \n",
       "74   40.7319     7096161   -73.9817  3793e58c60343a3fd6846ca2d2ef3c7f   \n",
       "78   40.7709     7131812   -73.9496  612a00076aefe8c98d1df4835640c74b   \n",
       "\n",
       "                                               photos  price  \\\n",
       "4   [https://photos.renthop.com/2/7170325_3bb5ac84...   2400   \n",
       "6   [https://photos.renthop.com/2/7092344_7663c19a...   3800   \n",
       "9   [https://photos.renthop.com/2/7158677_c897a134...   3495   \n",
       "10  [https://photos.renthop.com/2/7211212_1ed4542e...   3000   \n",
       "15  [https://photos.renthop.com/2/7225292_901f1984...   2795   \n",
       "16  [https://photos.renthop.com/2/7226687_4ea22bf1...   7200   \n",
       "18  [https://photos.renthop.com/2/7126989_a74ab3da...   6000   \n",
       "19  [https://photos.renthop.com/2/7114138_68d035c3...   1945   \n",
       "23  [https://photos.renthop.com/2/7131094_2117d8a9...   2435   \n",
       "32  [https://photos.renthop.com/2/7224815_8ff8a811...   6850   \n",
       "33  [https://photos.renthop.com/2/7107333_b11b9f27...   2785   \n",
       "36  [https://photos.renthop.com/2/7088993_c98c323f...   3100   \n",
       "38  [https://photos.renthop.com/2/7216312_beb173a1...   2400   \n",
       "39  [https://photos.renthop.com/2/7140668_bcf4de98...   2750   \n",
       "42  [https://photos.renthop.com/2/7141160_5625764b...   5465   \n",
       "43  [https://photos.renthop.com/2/7181353_e6f06720...   3150   \n",
       "44  [https://photos.renthop.com/2/7140840_bfc1e7d5...   3750   \n",
       "46  [https://photos.renthop.com/2/7172046_581122f7...   4450   \n",
       "49  [https://photos.renthop.com/2/7168225_c9d0b586...   3200   \n",
       "61  [https://photos.renthop.com/2/7213185_9102c3f2...   2495   \n",
       "66  [https://photos.renthop.com/2/7206465_5389259b...   2195   \n",
       "67  [https://photos.renthop.com/2/7134612_c8815193...   5975   \n",
       "69  [https://photos.renthop.com/2/7156935_9b3ce094...   4960   \n",
       "74  [https://photos.renthop.com/2/7096161_e2a00c04...   3362   \n",
       "78  [https://photos.renthop.com/2/7131812_e5b3ca9f...   2700   \n",
       "\n",
       "             street_address interest_level  \n",
       "4       145 Borinquen Place         medium  \n",
       "6             230 East 44th            low  \n",
       "9      405 East 56th Street         medium  \n",
       "10  792 Metropolitan Avenue         medium  \n",
       "15     340 East 34th Street            low  \n",
       "16     145 East 16th Street            low  \n",
       "18     410 East 13th Street            low  \n",
       "19         1661 York Avenue           high  \n",
       "23          346 E 19 Street            low  \n",
       "32          94 Hicks Street            low  \n",
       "33         420 E 80th St.\\r            low  \n",
       "36             360 W 34 St.            low  \n",
       "38     620 West 42nd Street         medium  \n",
       "39         174 Thompson St.            low  \n",
       "42          360 E 65 Street            low  \n",
       "43      63A Division Avenue            low  \n",
       "44          235 E 46 Street            low  \n",
       "46     170 East 18th Street           high  \n",
       "49          308 W 77 Street            low  \n",
       "61          576 Main Street            low  \n",
       "66              655 2nd Ave            low  \n",
       "67     460 West 20th Street            low  \n",
       "69     500 West 56th Street            low  \n",
       "74            252 First Ave            low  \n",
       "78            510 E 79th St         medium  "
      ]
     },
     "execution_count": 2,
     "metadata": {},
     "output_type": "execute_result"
    }
   ],
   "source": [
    "# set train_df as the training dataframe\n",
    "train_df = pd.read_json(\"train.json\")\n",
    "\n",
    "# look at the first 25 rows of training data\n",
    "train_df.head(25)"
   ]
  },
  {
   "cell_type": "code",
   "execution_count": 3,
   "metadata": {},
   "outputs": [
    {
     "name": "stdout",
     "output_type": "stream",
     "text": [
      "<class 'pandas.core.frame.DataFrame'>\n",
      "Int64Index: 49352 entries, 4 to 124009\n",
      "Data columns (total 15 columns):\n",
      " #   Column           Non-Null Count  Dtype  \n",
      "---  ------           --------------  -----  \n",
      " 0   bathrooms        49352 non-null  float64\n",
      " 1   bedrooms         49352 non-null  int64  \n",
      " 2   building_id      49352 non-null  object \n",
      " 3   created          49352 non-null  object \n",
      " 4   description      49352 non-null  object \n",
      " 5   display_address  49352 non-null  object \n",
      " 6   features         49352 non-null  object \n",
      " 7   latitude         49352 non-null  float64\n",
      " 8   listing_id       49352 non-null  int64  \n",
      " 9   longitude        49352 non-null  float64\n",
      " 10  manager_id       49352 non-null  object \n",
      " 11  photos           49352 non-null  object \n",
      " 12  price            49352 non-null  int64  \n",
      " 13  street_address   49352 non-null  object \n",
      " 14  interest_level   49352 non-null  object \n",
      "dtypes: float64(3), int64(3), object(9)\n",
      "memory usage: 4.3+ MB\n",
      "# of train rows :  49352\n",
      "# of test rows :  74659\n"
     ]
    }
   ],
   "source": [
    "test_df = pd.read_json(\"test.json\")\n",
    "train_df.info()\n",
    "print(\"# of train rows : \", train_df.shape[0])\n",
    "print(\"# of test rows : \", test_df.shape[0])"
   ]
  },
  {
   "cell_type": "code",
   "execution_count": 4,
   "metadata": {},
   "outputs": [
    {
     "data": {
      "text/plain": [
       "<matplotlib.axes._subplots.AxesSubplot at 0x2711a9a0>"
      ]
     },
     "execution_count": 4,
     "metadata": {},
     "output_type": "execute_result"
    },
    {
     "data": {
      "image/png": "[encoded data removed]",
      "text/plain": [
       "<Figure size 432x288 with 1 Axes>"
      ]
     },
     "metadata": {
      "needs_background": "light"
     },
     "output_type": "display_data"
    }
   ],
   "source": [
    "# Plot histograms for the following numeric columns: Price, Latitude & Longitude\n",
    "# None of the histograms are very useful due to outliers\n",
    "\n",
    "sns.distplot(train_df['price'], kde = False)"
   ]
  },
  {
   "cell_type": "code",
   "execution_count": 5,
   "metadata": {},
   "outputs": [
    {
     "data": {
      "text/plain": [
       "<matplotlib.axes._subplots.AxesSubplot at 0x298aae08>"
      ]
     },
     "execution_count": 5,
     "metadata": {},
     "output_type": "execute_result"
    },
    {
     "data": {
      "image/png": "[encoded data removed]",
      "text/plain": [
       "<Figure size 432x288 with 1 Axes>"
      ]
     },
     "metadata": {
      "needs_background": "light"
     },
     "output_type": "display_data"
    }
   ],
   "source": [
    "sns.distplot(train_df['latitude'], kde = False)"
   ]
  },
  {
   "cell_type": "code",
   "execution_count": 6,
   "metadata": {},
   "outputs": [
    {
     "data": {
      "text/plain": [
       "<matplotlib.axes._subplots.AxesSubplot at 0x23d695c8>"
      ]
     },
     "execution_count": 6,
     "metadata": {},
     "output_type": "execute_result"
    },
    {
     "data": {
      "image/png": "[encoded data removed]",
      "text/plain": [
       "<Figure size 432x288 with 1 Axes>"
      ]
     },
     "metadata": {
      "needs_background": "light"
     },
     "output_type": "display_data"
    }
   ],
   "source": [
    "sns.distplot(train_df['longitude'], kde = False)"
   ]
  },
  {
   "cell_type": "code",
   "execution_count": 7,
   "metadata": {},
   "outputs": [
    {
     "data": {
      "text/plain": [
       "<matplotlib.axes._subplots.AxesSubplot at 0x3adbc0a0>"
      ]
     },
     "execution_count": 7,
     "metadata": {},
     "output_type": "execute_result"
    },
    {
     "data": {
      "image/png": "[encoded data removed]",
      "text/plain": [
       "<Figure size 432x288 with 1 Axes>"
      ]
     },
     "metadata": {
      "needs_background": "light"
     },
     "output_type": "display_data"
    }
   ],
   "source": [
    "# Plot hour-wise listing trend and find out the top 5 busiest hours of postings\n",
    "\n",
    "train_df['created'] = pd.to_datetime(train_df['created'])\n",
    "\n",
    "sns.countplot(train_df.created.dt.hour)\n",
    "\n",
    "# the five busiest hours of postings are (in decreasing order): 2 AM, 3 AM, 5 AM, 2 AM, 4 AM"
   ]
  },
  {
   "cell_type": "code",
   "execution_count": 8,
   "metadata": {},
   "outputs": [
    {
     "data": {
      "text/plain": [
       "<matplotlib.axes._subplots.AxesSubplot at 0x22657ad8>"
      ]
     },
     "execution_count": 8,
     "metadata": {},
     "output_type": "execute_result"
    },
    {
     "data": {
      "image/png": "[encoded data removed]",
      "text/plain": [
       "<Figure size 432x288 with 1 Axes>"
      ]
     },
     "metadata": {
      "needs_background": "light"
     },
     "output_type": "display_data"
    }
   ],
   "source": [
    "# Visualization to show the proportion of target variable values\n",
    "\n",
    "sns.countplot(train_df['interest_level'], order=['low','medium','high'])\n",
    "\n",
    "# Most properties have an interest level of low, which makes sense. The properties with higher interest levels\n",
    "# will be sold off first"
   ]
  },
  {
   "cell_type": "code",
   "execution_count": 9,
   "metadata": {
    "scrolled": true
   },
   "outputs": [
    {
     "name": "stdout",
     "output_type": "stream",
     "text": [
      "TOTAL MISSING VALUES\n",
      "Latitude :  12\n",
      "listing_id  0\n",
      "bedrooms 9475\n",
      "bathrooms 313\n",
      "longitude 12\n",
      "price 0\n",
      "building_id 0\n",
      "created 0\n",
      "description 1686\n",
      "display_address 137\n",
      "features 0\n",
      "manager_id 0\n",
      "photos 0\n",
      "street_address 11\n",
      "interest_level 0\n"
     ]
    }
   ],
   "source": [
    "# !!!Find the number of missing values in each variable\n",
    "# bathrooms\tbedrooms\tbuilding_id\tcreated\tdescription\tdisplay_address\tfeatures\tlatitude\tlisting_id\tlongitude\tmanager_id\tphotos\tprice\tstreet_address\tinterest_level\n",
    "# number of null values in each variable\n",
    "latitude_count = 0\n",
    "longitude_count = 0\n",
    "price_count = 0\n",
    "bedroom_count = 0\n",
    "bathroom_count = 0\n",
    "building_id_count = 0\n",
    "created_count = 0\n",
    "display_address_count = 0\n",
    "description_count = 0\n",
    "features_count = 0;\n",
    "manager_id_count = 0\n",
    "photos_count = 0\n",
    "street_address_count = 0\n",
    "interest_level_count = 0\n",
    "listing_id_count = 0;\n",
    "\n",
    "print (\"TOTAL MISSING VALUES\")\n",
    "median = train_df['latitude'].median()\n",
    "for b in train_df['latitude']:\n",
    "    if b == 0:\n",
    "        latitude_count += 1\n",
    "        b = median\n",
    "print (\"Latitude : \", latitude_count)\n",
    "\n",
    "for b in train_df['listing_id']:\n",
    "    if b == 0:\n",
    "        listing_id_count += 1\n",
    "print (\"listing_id \", listing_id_count)\n",
    "\n",
    "# bedroom and bathroom can be zero!!! Have to fix these two\n",
    "for b in train_df['bedrooms']:\n",
    "    if b == 0 or isinstance(b, int) == False:\n",
    "        bedroom_count += 1\n",
    "        #print(b)\n",
    "print (\"bedrooms\", bedroom_count)\n",
    "\n",
    "for b in train_df['bathrooms']:\n",
    "    if b == 0 or isinstance(b, float) == False:\n",
    "        bathroom_count += 1\n",
    "        #print(b)\n",
    "print (\"bathrooms\", bathroom_count)\n",
    "#\n",
    "\n",
    "median = train_df['longitude'].median()\n",
    "for b in train_df['longitude']:\n",
    "    if b == 0:\n",
    "        longitude_count += 1\n",
    "        b = median\n",
    "print (\"longitude\", longitude_count)\n",
    "\n",
    "median = train_df['price'].median()\n",
    "for b in train_df['price']:\n",
    "    if b == 0:\n",
    "        price_count += 1\n",
    "        b = median\n",
    "print (\"price\", price_count)\n",
    "\n",
    "for b in train_df['building_id']:\n",
    "    if b == \"\":\n",
    "        building_id_count += 1\n",
    "print (\"building_id\", building_id_count)\n",
    "\n",
    "\n",
    "#length of date format is 19\n",
    "for b in train_df['created']:\n",
    "    if b == \"\":\n",
    "        created_count += 1\n",
    "        #print(b)\n",
    "print (\"created\", created_count)\n",
    "\n",
    "for b in train_df['description']:\n",
    "    if b == \"\" or b is None or len(b) < 4: # shows irrelevant data for len < 4\n",
    "        description_count += 1\n",
    "        #print(b)\n",
    "print (\"description\", description_count)\n",
    "\n",
    "for b in train_df['display_address']:\n",
    "    if b == \"\" or len(b) < 3: # displays irrelevant value for len < 3\n",
    "        #print(b)\n",
    "        display_address_count += 1\n",
    "        #print(b)\n",
    "print (\"display_address\", display_address_count)\n",
    "\n",
    "for b in train_df['features']:\n",
    "    if b == \"\":\n",
    "        features_count += 1\n",
    "print (\"features\", features_count)\n",
    "\n",
    "for b in train_df['manager_id']:\n",
    "    if b == \"\" or b is None:\n",
    "        manager_id_count += 1\n",
    "        #print(b)\n",
    "print (\"manager_id\", manager_id_count)\n",
    "\n",
    "for b in train_df['photos']:\n",
    "    if b == \"\" or b is None:\n",
    "        photos_count += 1\n",
    "        #print(b)\n",
    "print (\"photos\", photos_count)\n",
    "\n",
    "for b in train_df['street_address']:\n",
    "    if b == \"\" or len(b) < 4: # Found garbage value \"hi5\"\n",
    "        #print(b)\n",
    "        street_address_count += 1\n",
    "        #print(b)\n",
    "print (\"street_address\", street_address_count)\n",
    "\n",
    "for b in train_df['interest_level']:\n",
    "    if b == \"\" or b is None:\n",
    "        interest_level_count += 1\n",
    "        #print(b)\n",
    "print (\"interest_level\", interest_level_count)\n",
    "\n",
    "#for b in train_df['features']:\n",
    " #   print(b)\n"
   ]
  },
  {
   "cell_type": "code",
   "execution_count": 10,
   "metadata": {},
   "outputs": [
    {
     "name": "stdout",
     "output_type": "stream",
     "text": [
      "TOTAL OUTLIERS\n",
      "bedrooms :  297\n",
      "bathrooms :  1035\n",
      "latitude :  18\n",
      "longitude :  16\n",
      "price :  10\n"
     ]
    }
   ],
   "source": [
    "# Find out the number of outliers in each variable\n",
    "\n",
    "z = np.abs(stats.zscore(train_df[['bedrooms', 'bathrooms', 'latitude', 'longitude', 'price']]))\n",
    "\n",
    "threshold = 3\n",
    "\n",
    "outliers = np.where(z>threshold)\n",
    "outliersRow = outliers[0]\n",
    "outliersCol = outliers[1]\n",
    "\n",
    "bedrooms_outliers = 0 \n",
    "bathrooms_outliers = 0\n",
    "latitude_outliers = 0\n",
    "longitude_outliers = 0 \n",
    "price_outliers = 0\n",
    "\n",
    "for val in outliersCol:\n",
    "    if val == 0:\n",
    "        bedrooms_outliers += 1\n",
    "    elif val == 1:\n",
    "        bathrooms_outliers += 1\n",
    "    elif val == 2:\n",
    "        latitude_outliers += 1\n",
    "    elif val == 3:\n",
    "        longitude_outliers += 1\n",
    "    else:\n",
    "        price_outliers += 1\n",
    "\n",
    "print('TOTAL OUTLIERS')\n",
    "print('bedrooms : ', bedrooms_outliers)\n",
    "print('bathrooms : ', bathrooms_outliers)\n",
    "print('latitude : ', latitude_outliers)\n",
    "print('longitude : ', longitude_outliers)\n",
    "print('price : ', price_outliers)\n",
    "\n"
   ]
  },
  {
   "cell_type": "code",
   "execution_count": 11,
   "metadata": {},
   "outputs": [
    {
     "data": {
      "text/plain": [
       "<matplotlib.axes._subplots.AxesSubplot at 0x226f6ad8>"
      ]
     },
     "execution_count": 11,
     "metadata": {},
     "output_type": "execute_result"
    },
    {
     "data": {
      "image/png": "[encoded data removed]",
      "text/plain": [
       "<Figure size 432x288 with 1 Axes>"
      ]
     },
     "metadata": {
      "needs_background": "light"
     },
     "output_type": "display_data"
    }
   ],
   "source": [
    "# Plot visualizations to demonstrate outliers\n",
    "\n",
    "sns.boxplot(x = train_df['bedrooms'])"
   ]
  },
  {
   "cell_type": "code",
   "execution_count": 12,
   "metadata": {},
   "outputs": [
    {
     "name": "stdout",
     "output_type": "stream",
     "text": [
      "True\n"
     ]
    },
    {
     "data": {
      "text/plain": [
       "<matplotlib.axes._subplots.AxesSubplot at 0x212cf8f8>"
      ]
     },
     "execution_count": 12,
     "metadata": {},
     "output_type": "execute_result"
    },
    {
     "data": {
      "image/png": "[encoded data removed]",
      "text/plain": [
       "<Figure size 432x288 with 1 Axes>"
      ]
     },
     "metadata": {
      "needs_background": "light"
     },
     "output_type": "display_data"
    }
   ],
   "source": [
    "temp = \"6\"\n",
    "print(temp.isdigit())\n",
    "sns.boxplot(x = train_df['bathrooms'])"
   ]
  },
  {
   "cell_type": "code",
   "execution_count": 13,
   "metadata": {},
   "outputs": [
    {
     "data": {
      "text/plain": [
       "<matplotlib.axes._subplots.AxesSubplot at 0x25bb6e20>"
      ]
     },
     "execution_count": 13,
     "metadata": {},
     "output_type": "execute_result"
    },
    {
     "data": {
      "image/png": "[encoded data removed]",
      "text/plain": [
       "<Figure size 432x288 with 1 Axes>"
      ]
     },
     "metadata": {
      "needs_background": "light"
     },
     "output_type": "display_data"
    }
   ],
   "source": [
    "sns.boxplot(x = train_df['latitude'])"
   ]
  },
  {
   "cell_type": "code",
   "execution_count": 14,
   "metadata": {},
   "outputs": [
    {
     "data": {
      "text/plain": [
       "<matplotlib.axes._subplots.AxesSubplot at 0x26c9a2f8>"
      ]
     },
     "execution_count": 14,
     "metadata": {},
     "output_type": "execute_result"
    },
    {
     "data": {
      "image/png": "[encoded data removed]",
      "text/plain": [
       "<Figure size 432x288 with 1 Axes>"
      ]
     },
     "metadata": {
      "needs_background": "light"
     },
     "output_type": "display_data"
    }
   ],
   "source": [
    "sns.boxplot(x = train_df['longitude'])"
   ]
  },
  {
   "cell_type": "code",
   "execution_count": 15,
   "metadata": {},
   "outputs": [
    {
     "data": {
      "text/plain": [
       "<matplotlib.axes._subplots.AxesSubplot at 0x26f2ab50>"
      ]
     },
     "execution_count": 15,
     "metadata": {},
     "output_type": "execute_result"
    },
    {
     "data": {
      "image/png": "[encoded data removed]",
      "text/plain": [
       "<Figure size 432x288 with 1 Axes>"
      ]
     },
     "metadata": {
      "needs_background": "light"
     },
     "output_type": "display_data"
    }
   ],
   "source": [
    "sns.boxplot(x = train_df['price'])"
   ]
  },
  {
   "cell_type": "code",
   "execution_count": 16,
   "metadata": {},
   "outputs": [
    {
     "name": "stdout",
     "output_type": "stream",
     "text": [
      "(49352, 15)\n",
      "(49105, 15)\n"
     ]
    }
   ],
   "source": [
    "# Find outliers using Z-score\n",
    "# look through latitude, longitude, price\n",
    "\n",
    "z = np.abs(stats.zscore(train_df[['latitude', 'longitude', 'price']]))\n",
    "threshold = 3\n",
    "\n",
    "# Remove outliers from these columns with a z-score greater than 3\n",
    "train_df_o = train_df[(z<threshold).all(axis=1)]\n",
    "\n",
    "z = np.abs(stats.zscore(train_df_o[['bedrooms', 'bathrooms']]))\n",
    "# Remove outliers from bedrooms and bathrooms with very high z-score\n",
    "# we do this because these attributes are integers and highly concentrated. i.e. most properties only have 1-2 bedrooms and 1 bathroom\n",
    "# therefore, we only need to get rid of the farthest outliers to get good results\n",
    "train_df_o = train_df_o[(z<5).all(axis=1)]\n",
    "\n",
    "print(train_df.shape)\n",
    "print(train_df_o.shape)\n",
    "\n",
    "train_df = train_df_o"
   ]
  },
  {
   "cell_type": "code",
   "execution_count": 17,
   "metadata": {},
   "outputs": [
    {
     "data": {
      "text/plain": [
       "<matplotlib.axes._subplots.AxesSubplot at 0x2715ba00>"
      ]
     },
     "execution_count": 17,
     "metadata": {},
     "output_type": "execute_result"
    },
    {
     "data": {
      "image/png": "[encoded data removed]",
      "text/plain": [
       "<Figure size 432x288 with 1 Axes>"
      ]
     },
     "metadata": {
      "needs_background": "light"
     },
     "output_type": "display_data"
    }
   ],
   "source": [
    "# Plot histograms for the following numeric columns:\n",
    "# Price\n",
    "\n",
    "sns.distplot(train_df['price'], kde = False)"
   ]
  },
  {
   "cell_type": "code",
   "execution_count": 18,
   "metadata": {},
   "outputs": [
    {
     "data": {
      "text/plain": [
       "<matplotlib.axes._subplots.AxesSubplot at 0x22943e80>"
      ]
     },
     "execution_count": 18,
     "metadata": {},
     "output_type": "execute_result"
    },
    {
     "data": {
      "image/png": "[encoded data removed]",
      "text/plain": [
       "<Figure size 432x288 with 1 Axes>"
      ]
     },
     "metadata": {
      "needs_background": "light"
     },
     "output_type": "display_data"
    }
   ],
   "source": [
    "# Latitude\n",
    "\n",
    "sns.distplot(train_df['latitude'], kde = False)"
   ]
  },
  {
   "cell_type": "code",
   "execution_count": 19,
   "metadata": {},
   "outputs": [
    {
     "data": {
      "text/plain": [
       "<matplotlib.axes._subplots.AxesSubplot at 0x22943e20>"
      ]
     },
     "execution_count": 19,
     "metadata": {},
     "output_type": "execute_result"
    },
    {
     "data": {
      "image/png": "[encoded data removed]",
      "text/plain": [
       "<Figure size 432x288 with 1 Axes>"
      ]
     },
     "metadata": {
      "needs_background": "light"
     },
     "output_type": "display_data"
    }
   ],
   "source": [
    "#Longitide\n",
    "\n",
    "sns.distplot(train_df['longitude'], kde = False)"
   ]
  },
  {
   "cell_type": "code",
   "execution_count": 20,
   "metadata": {},
   "outputs": [],
   "source": [
    "# Extract features from the images and transform it into data that’s ready to be used in the model for classification.\n",
    "\n",
    "# Feature 1: Grayscale pixel values      ~~~ Commented out due to memory issues ~~~\n",
    "#grayscale_feat_list = []\n",
    "#for filename in glob.glob('images_sample/*/*.jpg'):\n",
    "#    img = imread(filename, as_gray=True)\n",
    "#    imgFeature = np.reshape(img, (img.shape[0]*img.shape[1]))    \n",
    "#    grayscale_feat_list.append(imgFeature)\n",
    "\n",
    "\n",
    "# Feature 2: Channel mean pixel values\n",
    "#mean_pix_list = []\n",
    "#for filename in glob.glob('images_sample/*/*.jpg'):\n",
    "#    colorImg = imread(filename)\n",
    "#    print(filename)\n",
    "#    feat_matrix = np.zeros((colorImg.shape[0], colorImg.shape[1]))\n",
    "#    for i in range(0, colorImg.shape[0]):\n",
    "#        for j in range(0, colorImg.shape[1]):\n",
    "#                feat_matrix[i][j] = ((int(colorImg[i,j,0]) + int(colorImg[i,j,1]) + int(colorImg[i,j,2]))/3)\n",
    "#    feature = np.reshape(feat_matrix, (colorImg.shape[0]*colorImg.shape[1]))\n",
    "#    mean_pix_list.append(feature)\n"
   ]
  },
  {
   "cell_type": "code",
   "execution_count": 21,
   "metadata": {},
   "outputs": [],
   "source": [
    "# Drop duplicate features\n",
    "\n",
    "train_df['features'] = train_df.loc[:,'features'].apply(lambda x: ' '.join(x))\n",
    "train_df['photos'] = train_df.loc[:,'photos'].apply(lambda x: ' '.join(x))\n",
    "test_df['features'] = test_df.loc[:,'features'].apply(lambda x: ' '.join(x))\n",
    "test_df['photos'] = test_df.loc[:,'photos'].apply(lambda x: ' '.join(x))\n",
    "train_df = train_df.drop_duplicates()\n",
    "test_df = test_df.drop_duplicates()"
   ]
  },
  {
   "cell_type": "code",
   "execution_count": 22,
   "metadata": {
    "scrolled": true
   },
   "outputs": [
    {
     "name": "stdout",
     "output_type": "stream",
     "text": [
      "<class 'pandas.core.frame.DataFrame'>\n",
      "Int64Index: 49105 entries, 4 to 124009\n",
      "Data columns (total 14 columns):\n",
      " #   Column                 Non-Null Count  Dtype  \n",
      "---  ------                 --------------  -----  \n",
      " 0   bathrooms              49105 non-null  float64\n",
      " 1   bedrooms               49105 non-null  int64  \n",
      " 2   latitude               49105 non-null  float64\n",
      " 3   listing_id             49105 non-null  int64  \n",
      " 4   longitude              49105 non-null  float64\n",
      " 5   price                  49105 non-null  int64  \n",
      " 6   interest_level         49105 non-null  object \n",
      " 7   num_photos             49105 non-null  int64  \n",
      " 8   num_features           49105 non-null  int64  \n",
      " 9   hour                   49105 non-null  int64  \n",
      " 10  day                    49105 non-null  int64  \n",
      " 11  month                  49105 non-null  int64  \n",
      " 12  year                   49105 non-null  int64  \n",
      " 13  num_description_words  49105 non-null  int64  \n",
      "dtypes: float64(3), int64(10), object(1)\n",
      "memory usage: 5.4+ MB\n",
      "<class 'pandas.core.frame.DataFrame'>\n",
      "Int64Index: 49105 entries, 4 to 124009\n",
      "Data columns (total 15 columns):\n",
      " #   Column                 Non-Null Count  Dtype  \n",
      "---  ------                 --------------  -----  \n",
      " 0   bathrooms              49105 non-null  float64\n",
      " 1   bedrooms               49105 non-null  int64  \n",
      " 2   latitude               49105 non-null  float64\n",
      " 3   listing_id             49105 non-null  int64  \n",
      " 4   longitude              49105 non-null  float64\n",
      " 5   photos                 49105 non-null  object \n",
      " 6   price                  49105 non-null  int64  \n",
      " 7   interest_level         49105 non-null  object \n",
      " 8   num_photos             49105 non-null  int64  \n",
      " 9   num_features           49105 non-null  int64  \n",
      " 10  hour                   49105 non-null  int64  \n",
      " 11  day                    49105 non-null  int64  \n",
      " 12  month                  49105 non-null  int64  \n",
      " 13  year                   49105 non-null  int64  \n",
      " 14  num_description_words  49105 non-null  int64  \n",
      "dtypes: float64(3), int64(10), object(2)\n",
      "memory usage: 5.6+ MB\n"
     ]
    }
   ],
   "source": [
    "# Extract features from the text data and transform it into data that's ready to be used in the model for classification\n",
    "\n",
    "# number of photos\n",
    "train_df['num_photos'] = train_df['photos'].apply(len)\n",
    "test_df['num_photos'] = test_df['photos'].apply(len)\n",
    "\n",
    "# number of features\n",
    "train_df['num_features'] = train_df['features'].apply(len)\n",
    "test_df['num_features'] = test_df['features'].apply(len)\n",
    "\n",
    "# get hour, day, month, year\n",
    "train_df['hour'] = train_df.created.dt.hour\n",
    "train_df['day'] = train_df.created.dt.day\n",
    "train_df['month'] = train_df.created.dt.month\n",
    "train_df['year'] = train_df.created.dt.year\n",
    "\n",
    "test_df['created'] = pd.to_datetime(test_df['created'])\n",
    "test_df['hour'] = test_df.created.dt.hour\n",
    "test_df['day'] = test_df.created.dt.day\n",
    "test_df['month'] = test_df.created.dt.month\n",
    "test_df['year'] = test_df.created.dt.year\n",
    "\n",
    "train_df[\"num_description_words\"] = train_df[\"description\"].apply(lambda x: len(x.split(\" \")))\n",
    "test_df[\"num_description_words\"] = test_df[\"description\"].apply(lambda x: len(x.split(\" \")))\n",
    "\n",
    "# use label encoder to normalize labels\n",
    "#categorical = [\"display_address\", \"manager_id\", \"building_id\", \"street_address\"]\n",
    "#for f in categorical:\n",
    "#    le = preprocessing.LabelEncoder()\n",
    "#    le.fit(list(train_df[f].values) + list(test_df[f].values))\n",
    "#    train_df[f] = le.transform(list(train_df[f].values))\n",
    "#    test_df[f] = le.transform(list(test_df[f].values))\n",
    "\n",
    "# SVM additional features\n",
    "svm_train = train_df\n",
    "svm_test = test_df\n",
    "\n",
    "# drop non-numerical columns\n",
    "train_df = train_df.drop(['created','description','features','photos', 'display_address', 'manager_id', 'building_id', 'street_address'], axis=1)\n",
    "test_df = test_df.drop(['created','description','features','photos', 'display_address', 'manager_id', 'building_id', 'street_address'], axis=1)\n",
    "\n",
    "train_df.info()\n",
    "svm_train = svm_train.drop(['created','description','features', 'display_address', 'manager_id', 'building_id', 'street_address'], axis=1)\n",
    "svm_test = svm_test.drop(['created','description','features', 'display_address', 'manager_id', 'building_id', 'street_address'], axis=1)\n",
    "svm_train.info()"
   ]
  },
  {
   "cell_type": "code",
   "execution_count": 23,
   "metadata": {},
   "outputs": [],
   "source": [
    "# Need to put all columns except interest_level into X\n",
    "# Need to put interest_level into Y\n",
    "\n",
    "RFE_X = train_df.loc[:, train_df.columns != 'interest_level']\n",
    "RFE_y = train_df.loc[:, train_df.columns == 'interest_level']\n",
    "RFE_y = RFE_y.values.ravel()\n"
   ]
  },
  {
   "cell_type": "code",
   "execution_count": 24,
   "metadata": {},
   "outputs": [
    {
     "name": "stdout",
     "output_type": "stream",
     "text": [
      "[False False False  True False  True  True  True  True  True False  True\n",
      "  True]\n",
      "[3 2 5 1 4 1 1 1 1 1 6 1 1]\n"
     ]
    }
   ],
   "source": [
    "# Recursive feature elimination\n",
    "\n",
    "RFEmodel = LogisticRegression(solver = 'lbfgs', multi_class='auto', max_iter=10000)\n",
    "rfe = feature_selection.RFECV(RFEmodel, cv=3)\n",
    "rfe = rfe.fit(RFE_X, RFE_y)\n",
    "print(rfe.support_)\n",
    "print(rfe.ranking_)\n",
    "\n",
    "# SVM Label Encoding for photo data\n",
    "le = preprocessing.LabelEncoder()\n",
    "for column_name in svm_train.columns:\n",
    "    if svm_train[column_name].dtype == object:\n",
    "        svm_train[column_name] = le.fit_transform(svm_train[column_name])\n",
    "    else:\n",
    "        pass\n",
    "    \n",
    "svm_RFE_X = svm_train.loc[:, svm_train.columns != 'interest_level']\n",
    "svm_RFE_y = svm_train.loc[:, svm_train.columns == 'interest_level']\n",
    "svm_RFE_y = svm_RFE_y.values.ravel()\n",
    "\n",
    "rfe = rfe.fit(svm_RFE_X, svm_RFE_y)\n",
    "\n",
    "# these results suggest that we should:\n",
    "# keep - listing_id, price, num_photos, num_features, hour, day, year, num_description_words\n",
    "# then in order of importance - bedrooms, bathrooms, longitude, latitude, month"
   ]
  },
  {
   "cell_type": "code",
   "execution_count": 25,
   "metadata": {},
   "outputs": [],
   "source": [
    "# Remove least important feature\n",
    "train_df = train_df.drop(['month'], axis = 1)\n",
    "test_df = test_df.drop(['month'], axis = 1)\n",
    "\n",
    "svm_train = svm_train.drop(['month'], axis = 1)\n",
    "svm_test = svm_test.drop(['month'], axis = 1)"
   ]
  },
  {
   "cell_type": "code",
   "execution_count": 26,
   "metadata": {
    "scrolled": true
   },
   "outputs": [
    {
     "name": "stdout",
     "output_type": "stream",
     "text": [
      "Logloss scores:  [0.76174153 0.76305425 0.76679106 0.76372841 0.76262478 0.76408377\n",
      " 0.76488669 0.76849992 0.76731848 0.76911788]\n",
      "SVM accuracy score:  [0.69341208 0.69045922 0.69473577 0.69147745 0.69076469]\n",
      "SVM Logloss scores:  [0.69171248 0.69334148 0.68926899 0.69252698 0.69639585 0.69327902\n",
      " 0.68940937 0.69327902 0.69164969 0.69185336]\n",
      "Accuracy scores:  [0.69341208 0.69331025 0.69331025 0.69331025 0.69341208]\n"
     ]
    }
   ],
   "source": [
    "X = train_df.loc[:, train_df.columns != 'interest_level']\n",
    "y = train_df.loc[:, train_df.columns == 'interest_level']\n",
    "y = y.values.ravel()\n",
    "\n",
    "# SVM data\n",
    "X_svm = svm_train.loc[:, svm_train.columns != 'interest_level']\n",
    "y_svm = svm_train.loc[:, svm_train.columns == 'interest_level']\n",
    "y_svm = y_svm.values.ravel()\n",
    "\n",
    "# Train Logistic Regression model\n",
    "model = LogisticRegression(solver = 'lbfgs', multi_class='auto')\n",
    "\n",
    "\n",
    "# SVM model\n",
    "scaling = MinMaxScaler(feature_range=(-1, 1)).fit(X)\n",
    "X_train = scaling.transform(X)\n",
    "svmModel = svm.LinearSVC(multi_class = 'ovr', C = 1.0, dual = False)\n",
    "svmModel.fit(X, y)\n",
    "\n",
    "# Cross-validation of model\n",
    "scores = model_selection.cross_val_score(model, X, y, cv=10, scoring='neg_log_loss')\n",
    "print('Logloss scores: ', np.absolute(scores))\n",
    "\n",
    "svmAccScore = model_selection.cross_val_score(svmModel, X_train, y_svm, cv=5)\n",
    "print('SVM accuracy score: ', svmAccScore)\n",
    "\n",
    "svmPerformance = Pipeline([('transformer', scaling), ('estimator', svmModel)])\n",
    "svmScore = model_selection.cross_val_score(svmPerformance, X_train, y_svm, cv = 10)\n",
    "print('SVM Logloss scores: ', np.absolute(svmScore))\n",
    "\n",
    "#svmScore = model_selection.cross_val_score(svmModel, X_test, y_test, cv=5)\n",
    "#print('SVM test score: ', svmScore)\n",
    "\n",
    "# Find accuracy of model\n",
    "scores = model_selection.cross_val_score(model, X, y, cv=5)\n",
    "print('Accuracy scores: ', scores)"
   ]
  },
  {
   "cell_type": "code",
   "execution_count": 27,
   "metadata": {},
   "outputs": [],
   "source": [
    "# Log regression submit prediction\n",
    "model.fit(X, y)\n",
    "y_pred = model.predict_proba(test_df)\n",
    "\n",
    "labels2idx = {label: i for i, label in enumerate(model.classes_)}\n",
    "\n",
    "sub = pd.DataFrame()\n",
    "sub[\"listing_id\"] = test_df[\"listing_id\"]\n",
    "for label in [\"high\", \"medium\", \"low\"]:\n",
    "    sub[label] = y_pred[:, labels2idx[label]]\n",
    "sub.to_csv(\"submission_rf.csv\", index=False)\n",
    "\n",
    "# SVM model prediction~~~~~ **** COMMENTED OUT BECAUSE IT TAKES SO LONG **** ~~~~\n",
    "#svc = SVC(probability=True, kernel='linear')\n",
    "#svc.fit(X_train, y_svm)\n",
    "#svm_y_pred = svc.predict_proba(svm_test)\n",
    "#svm_labels2idx = {label: i for i, label in enumerate(svc.classes_)}\n",
    "#svm_sub = pd.DataFrame()\n",
    "#svm_sub[\"listing_id\"] = svm_test[\"listing_id\"]\n",
    "#for label in [\"high\", \"medium\", \"low\"]:\n",
    "#    svm_sub[label] = svm_y_pred[:, svm_labels2idx[label]]\n",
    "#svm_sub.to_csv(\"submission_rf.csv\", index=False)"
   ]
  },
  {
   "cell_type": "code",
   "execution_count": null,
   "metadata": {},
   "outputs": [],
   "source": [
    "# DECISION TREE \n",
    "\n",
    "DT_train_df = pd.read_json(\"train.json\")\n",
    "DT_test_df = pd.read_json(\"test.json\")\n",
    "\n",
    "\n",
    "# drop non-numerical attributes(8)\n",
    "DT_train_df = DT_train_df.drop(['created','description','features','photos', 'display_address', 'manager_id', 'building_id', 'street_address'], axis=1)\n",
    "DT_test_df = DT_test_df.drop(['created','description','features','photos', 'display_address', 'manager_id', 'building_id', 'street_address'], axis=1)\n",
    "\n",
    "#DT_train_df.head(10)\n",
    "#DT_train_df.info()\n",
    "#DT_test_df.info()\n",
    "\n"
   ]
  },
  {
   "cell_type": "code",
   "execution_count": null,
   "metadata": {},
   "outputs": [],
   "source": [
    "# Using Randomforest to figure out the features\n",
    "\n",
    "from sklearn.ensemble.forest import RandomForestClassifier\n",
    "from sklearn.feature_selection import SelectFromModel\n",
    "\n",
    "R_train_df = pd.read_json(\"train.json\")\n",
    "R_test_df = pd.read_json(\"test.json\")\n",
    "\n",
    "R_train_df = R_train_df.drop(['created','description','features','photos', 'display_address', 'manager_id', 'building_id', 'street_address'], axis=1)\n",
    "R_test_df = R_test_df.drop(['created','description','features','photos', 'display_address', 'manager_id', 'building_id', 'street_address'], axis=1)\n",
    "\n",
    "R_X = R_train_df.drop(['interest_level'], axis = 1)\n",
    "R_Y = R_train_df.loc[:, R_train_df.columns == 'interest_level']\n",
    "\n",
    "R_X_train, R_X_test, R_Y_train, R_Y_test = train_test_split(R_X, R_Y, test_size = 0.3, random_state=1)\n",
    "# R_X_train.head(10)\n",
    "\n",
    "sel = SelectFromModel(RandomForestClassifier(n_estimators = 100))\n",
    "sel.fit(R_X_train, R_Y_train)\n",
    "#sel.get_support()\n",
    "\n",
    "selected_feat= R_X_train.columns[(sel.get_support())]\n",
    "#len(selected_feat)\n",
    "print(selected_feat)"
   ]
  },
  {
   "cell_type": "code",
   "execution_count": null,
   "metadata": {},
   "outputs": [],
   "source": [
    "# NOT DECIDED TO DROP 'BATHROOMS' AND 'BEDROOMS' AS THE ACCURACY DECREASES WHEN\n",
    "# DECIDED TO REMOVE THEM. SO, CONSIDERING ALL NUMERICAL ATTRIBUTES AS FEATURES\n",
    "\n",
    "## DT_test_df = DT_test_df.drop(['bathrooms', 'bedrooms'], axis = 1)\n",
    "## 'bathrooms', 'bedrooms',\n",
    "\n",
    "X = DT_train_df.drop(['interest_level'], axis = 1)\n",
    "Y = DT_train_df.loc[:, DT_train_df.columns == 'interest_level']\n",
    "#X.head(3)\n",
    "X.columns"
   ]
  },
  {
   "cell_type": "code",
   "execution_count": null,
   "metadata": {},
   "outputs": [],
   "source": [
    "# for test_size - 0.3 and random_state=0, we get accuracy as .6392\n",
    "X_train, X_test, Y_train, Y_test = train_test_split(X, Y, test_size = 0.3, random_state=1)\n",
    "# Decision Tree\n",
    "DTree = DecisionTreeClassifier(criterion=\"entropy\", max_depth=7)\n",
    "\n",
    "DTree = DTree.fit(X_train, Y_train)\n",
    "\n",
    "# prediction\n",
    "\n",
    "Y_pred = DTree.predict(X_test)\n",
    "\n",
    "# Cross-validation of model\n",
    "scores = model_selection.cross_val_score(DTree, X, Y, cv=10, scoring='neg_log_loss')\n",
    "print('Logloss scores: ', np.absolute(scores))\n",
    "\n",
    "scores = model_selection.cross_val_score(DTree, X, Y, cv=10)\n",
    "print('Accuracy scores: ', scores)\n",
    "\n",
    "print(\"Mean of Accuracy Scores\", DTree.score(X,Y)) # gives the average of above accuracy scores\n",
    "\n",
    "# print(\"Accuracy:\", metrics.accuracy_score(Y_test, Y_pred))\n"
   ]
  },
  {
   "cell_type": "code",
   "execution_count": null,
   "metadata": {},
   "outputs": [],
   "source": [
    "# submit prediction for Decision Tree\n",
    "\n",
    "DTree.fit(X, Y)\n",
    "DT_y_pred = DTree.predict_proba(DT_test_df)\n",
    "\n",
    "DT_labels2idx = {label: i for i, label in enumerate(DTree.classes_)}\n",
    "\n",
    "DT_sub = pd.DataFrame()\n",
    "DT_sub[\"listing_id\"] = DT_test_df[\"listing_id\"]\n",
    "for label in [\"high\", \"medium\", \"low\"]:\n",
    "    DT_sub[label] = DT_y_pred[:, DT_labels2idx[label]]\n",
    "DT_sub.to_csv(\"submission_DT.csv\", index=False)"
   ]
  }
 ],
 "metadata": {
  "kernelspec": {
   "display_name": "Python 3",
   "language": "python",
   "name": "python3"
  },
  "language_info": {
   "codemirror_mode": {
    "name": "ipython",
    "version": 3
   },
   "file_extension": ".py",
   "mimetype": "text/x-python",
   "name": "python",
   "nbconvert_exporter": "python",
   "pygments_lexer": "ipython3",
   "version": "3.8.1"
  },
  "pycharm": {
   "stem_cell": {
    "cell_type": "raw",
    "metadata": {
     "collapsed": false
    },
    "source": []
   }
  }
 },
 "nbformat": 4,
 "nbformat_minor": 2
}
